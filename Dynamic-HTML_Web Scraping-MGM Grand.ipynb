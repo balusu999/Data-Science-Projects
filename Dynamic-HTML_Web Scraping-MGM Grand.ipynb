{
 "cells": [
  {
   "cell_type": "code",
   "execution_count": 2,
   "metadata": {},
   "outputs": [],
   "source": [
    "import requests\n",
    "r = requests.get('https://mgmgrand.mgmresorts.com/en/hotel.html')"
   ]
  },
  {
   "cell_type": "code",
   "execution_count": 3,
   "metadata": {},
   "outputs": [
    {
     "name": "stdout",
     "output_type": "stream",
     "text": [
      "\n",
      "<!DOCTYPE HTML>\n",
      "<html lang=\"en\">\n",
      "<head>\n",
      "<meta http-equiv=\"content-type\" content=\"text/html; charset=UTF-8\"/>\n",
      "<script charset='UTF-8'>window['adrum-start-time']=new Date().getTime();(function(config){config.appKey='AD-AAB-AAT-GTT';config.adrumExtUrlHttp='http://cdn.appdynamics.com';config.adrumExtUrlHttps='https://cdn.appdynamics.com';config.beaconUrlHttp='http://col.eum-appdynamics.com';config.beaconUrlHttps='https://col.eum-appdynamics.com';config.xd={enable:false};})(window['adrum-config']||(\n"
     ]
    }
   ],
   "source": [
    "# print the first 500 characters of the HTML\n",
    "\n",
    "print(r.text[0:500])"
   ]
  },
  {
   "cell_type": "code",
   "execution_count": 4,
   "metadata": {},
   "outputs": [],
   "source": [
    "from bs4 import BeautifulSoup\n",
    "soup = BeautifulSoup(r.text, 'html.parser')"
   ]
  },
  {
   "cell_type": "code",
   "execution_count": 5,
   "metadata": {},
   "outputs": [],
   "source": [
    "results_a = soup.find_all('a', attrs={'class':'Card__title'})    # Anchor tag data reading\n",
    "results_div = soup.find_all('div', attrs={'class':'Card__key-values'})    # Division tag data reading\n",
    "results_RoomDescription=soup.find_all('div', attrs={'class':'Card__description'})    # RoomDescription data reading"
   ]
  },
  {
   "cell_type": "code",
   "execution_count": 6,
   "metadata": {},
   "outputs": [
    {
     "data": {
      "text/plain": [
       "27"
      ]
     },
     "execution_count": 6,
     "metadata": {},
     "output_type": "execute_result"
    }
   ],
   "source": [
    "len(results_a)"
   ]
  },
  {
   "cell_type": "code",
   "execution_count": 7,
   "metadata": {},
   "outputs": [
    {
     "data": {
      "text/plain": [
       "23"
      ]
     },
     "execution_count": 7,
     "metadata": {},
     "output_type": "execute_result"
    }
   ],
   "source": [
    "len(results_div)"
   ]
  },
  {
   "cell_type": "code",
   "execution_count": 8,
   "metadata": {},
   "outputs": [
    {
     "data": {
      "text/plain": [
       "27"
      ]
     },
     "execution_count": 8,
     "metadata": {},
     "output_type": "execute_result"
    }
   ],
   "source": [
    "len(results_RoomDescription)"
   ]
  },
  {
   "cell_type": "code",
   "execution_count": 10,
   "metadata": {},
   "outputs": [
    {
     "data": {
      "text/plain": [
       "[<a aria-label=\"View Room Details West Wing King\" class=\"Card__title\" href=\"/en/hotel/west-wing-king.html\" id=\"roomoverviewcardcoll__card-west-wing-king__title\">West Wing King</a>,\n",
       " <a aria-label=\"View Room Details Grand King\" class=\"Card__title\" href=\"/en/hotel/grand-king.html\" id=\"roomoverviewcardcoll__card-grand-king__title\">Grand King</a>,\n",
       " <a aria-label=\"View Room Details Grand Two Queen \" class=\"Card__title\" href=\"/en/hotel/grand-queen.html\" id=\"roomoverviewcardcoll__card-grand-two-queen__title\">Grand Two Queen </a>,\n",
       " <a aria-label=\"View Room Details Grand King Strip View\" class=\"Card__title\" href=\"/en/hotel/grand-king-strip-view.html\" id=\"roomoverviewcardcoll__card-grand-king-strip-view__title\">Grand King Strip View</a>,\n",
       " <a aria-label=\"View Room Details Grand Two Queen Strip View\" class=\"Card__title\" href=\"/en/hotel/grand-queen-strip-view.html\" id=\"roomoverviewcardcoll__card-grand-two-queen-strip-view__title\">Grand Two Queen Strip View</a>,\n",
       " <a aria-label=\"View Room Details Stay Well Grand King\" class=\"Card__title\" href=\"/en/hotel/stay-well-grand-king.html\" id=\"roomoverviewcardcoll_2045244886__card-stay-well-grand-king__title\">Stay Well Grand King</a>,\n",
       " <a aria-label=\"View Room Details Stay Well Grand Two Queen\" class=\"Card__title\" href=\"/en/hotel/stay-well-grand-queen.html\" id=\"roomoverviewcardcoll_2045244886__card-stay-well-grand-two-queen__title\">Stay Well Grand Two Queen</a>,\n",
       " <a aria-label=\"View Room Details Stay Well Executive King Suite\" class=\"Card__title\" href=\"/en/hotel/stay-well-executive-king-suite.html\" id=\"roomoverviewcardcoll_2045244886__card-stay-well-executive-king-suite__title\">Stay Well Executive King Suite</a>,\n",
       " <a aria-label=\"View Room Details Stay Well Executive Two Queen Suite\" class=\"Card__title\" href=\"/en/hotel/stay-well-executive-queen-suite.html\" id=\"roomoverviewcardcoll_2045244886__card-stay-well-executive-two-queen-suite__title\">Stay Well Executive Two Queen Suite</a>,\n",
       " <a aria-label=\"View Room Details Stay Well Tower Spa Suite\" class=\"Card__title\" href=\"/en/hotel/stay-well-tower-spa-suite.html\" id=\"roomoverviewcardcoll_2045244886__card-stay-well-tower-spa-suite__title\">Stay Well Tower Spa Suite</a>,\n",
       " <a aria-label=\"View Room Details Stay Well Patio Suite\" class=\"Card__title\" href=\"/en/hotel/stay-well-patio-suite.html\" id=\"roomoverviewcardcoll_2045244886__card-stay-well-patio-suite__title\">Stay Well Patio Suite</a>,\n",
       " <a aria-label=\"View Room Details 2 Bedroom Stay Well Marquee Suite\" class=\"Card__title\" href=\"/en/hotel/two-bedroom-stay-well-marquee-suite.html\" id=\"roomoverviewcardcoll_2045244886__card-2-bedroom-stay-well-marquee-suite__title\">2 Bedroom Stay Well Marquee Suite</a>,\n",
       " <a aria-label=\"View Room Details Executive King Suite\" class=\"Card__title\" href=\"/en/hotel/executive-king-suite.html\" id=\"roomoverviewcardcoll_1402667275__card-executive-king-suite__title\">Executive King Suite</a>,\n",
       " <a aria-label=\"View Room Details Executive Two Queen Suite\" class=\"Card__title\" href=\"/en/hotel/executive-queen-suite.html\" id=\"roomoverviewcardcoll_1402667275__card-executive-two-queen-suite__title\">Executive Two Queen Suite</a>,\n",
       " <a aria-label=\"View Room Details Tower Spa Suite\" class=\"Card__title\" href=\"/en/hotel/tower-spa-suite.html\" id=\"roomoverviewcardcoll_1402667275__card-tower-spa-suite__title\">Tower Spa Suite</a>,\n",
       " <a aria-label=\"View Room Details Tower One-Bedroom Suite\" class=\"Card__title\" href=\"/en/hotel/tower-one-bedroom-suite.html\" id=\"roomoverviewcardcoll_1402667275__card-tower-one-bedroom-suite__title\">Tower One-Bedroom Suite</a>,\n",
       " <a aria-label=\"View Room Details City View Suite\" class=\"Card__title\" href=\"/en/hotel/city-view-suite.html\" id=\"roomoverviewcardcoll_1402667275__card-city-view-suite__title\">City View Suite</a>,\n",
       " <a aria-label=\"View Room Details Penthouse City View Suite\" class=\"Card__title\" href=\"/en/hotel/penthouse-city-view-suite.html\" id=\"roomoverviewcardcoll_1402667275__card-penthouse-city-view-suite__title\">Penthouse City View Suite</a>,\n",
       " <a aria-label=\"View Room Details Skyline Terrace Suite\" class=\"Card__title\" href=\"/en/hotel/skyline-terrace-suite.html\" id=\"roomoverviewcardcoll_1402667275__card-skyline-terrace-suite__title\">Skyline Terrace Suite</a>,\n",
       " <a aria-label=\"View Room Details 2 Bedroom Marquee Suite\" class=\"Card__title\" href=\"/en/hotel/two-bedroom-marquee-suite.html\" id=\"roomoverviewcardcoll_1402667275__card-2-bedroom-marquee-suite__title\">2 Bedroom Marquee Suite</a>,\n",
       " <a aria-label=\"View Room Details SKYLOFTS One Bedroom Loft\" class=\"Card__title\" href=\"/en/hotel/skylofts-one-bedroom-loft.html\" id=\"roomoverviewcardcoll_198118956__card-skylofts-one-bedroom-loft__title\">SKYLOFTS One Bedroom Loft</a>,\n",
       " <a aria-label=\"View Room Details SKYLOFTS Two Bedroom Loft\" class=\"Card__title\" href=\"/en/hotel/skylofts-two-bedroom-loft.html\" id=\"roomoverviewcardcoll_198118956__card-skylofts-two-bedroom-loft__title\">SKYLOFTS Two Bedroom Loft</a>,\n",
       " <a aria-label=\"View Room Details SKYLOFTS Three Bedroom Loft\" class=\"Card__title\" href=\"/en/hotel/skylofts-three-bedroom-loft.html\" id=\"roomoverviewcardcoll_198118956__card-skylofts-three-bedroom-loft__title\">SKYLOFTS Three Bedroom Loft</a>,\n",
       " <a aria-label=\"Learn more Stay Longer, Save More\" class=\"Card__title\" href=\"/en/offers/offer-detail.html#/offerType=ROOM&amp;offerId=b68ad070-69e5-443f-959d-8d1e0455b5cf&amp;programType=OpenLoop\" id=\"promocardrow__card-stay-longer-save-more__title\">Stay Longer, Save More</a>,\n",
       " <a aria-label=\"Learn more Daily F&amp;B Credit\" class=\"Card__title\" href=\"/en/offers/offer-detail.html#/offerType=ROOM&amp;offerId=baf43391-94d6-4ee9-9d25-55fe7cb6d862&amp;programType=OpenLoop\" id=\"promocardrow__card-daily-fb-credit__title\">Daily F&amp;B Credit</a>,\n",
       " <a aria-label=\"Learn more AAA Member Discount\" class=\"Card__title\" href=\"/en/offers/offer-detail.html#/offerType=ROOM&amp;offerId=1b143e7a-27af-4666-9aa4-6e13fcd8e049&amp;programType=OpenLoop\" id=\"promocardrow__card-aaa-member-discount__title\">AAA Member Discount</a>]"
      ]
     },
     "execution_count": 10,
     "metadata": {},
     "output_type": "execute_result"
    }
   ],
   "source": [
    "results_a[0:-1]"
   ]
  },
  {
   "cell_type": "code",
   "execution_count": 11,
   "metadata": {},
   "outputs": [
    {
     "data": {
      "text/plain": [
       "<a aria-label=\"View Room Details West Wing King\" class=\"Card__title\" href=\"/en/hotel/west-wing-king.html\" id=\"roomoverviewcardcoll__card-west-wing-king__title\">West Wing King</a>"
      ]
     },
     "execution_count": 11,
     "metadata": {},
     "output_type": "execute_result"
    }
   ],
   "source": [
    "results_a[0]"
   ]
  },
  {
   "cell_type": "code",
   "execution_count": 12,
   "metadata": {},
   "outputs": [
    {
     "data": {
      "text/plain": [
       "<div class=\"Card__key-values\"><div class=\"Card__key-value\">350 sq. ft</div><div class=\"Card__key-value\">1 King Bed</div><div class=\"Card__key-value\">Max Guest 2</div></div>"
      ]
     },
     "execution_count": 12,
     "metadata": {},
     "output_type": "execute_result"
    }
   ],
   "source": [
    "results_div[0]"
   ]
  },
  {
   "cell_type": "code",
   "execution_count": 13,
   "metadata": {},
   "outputs": [
    {
     "data": {
      "text/plain": [
       "<div class=\"Card__description\" id=\"roomoverviewcardcoll__card-west-wing-king__description\">The West Wing King is just steps away from Hakkasan Nightclub and Las Vegas Boulevard.\n",
       "</div>"
      ]
     },
     "execution_count": 13,
     "metadata": {},
     "output_type": "execute_result"
    }
   ],
   "source": [
    "results_RoomDescription[0]"
   ]
  },
  {
   "cell_type": "markdown",
   "metadata": {},
   "source": [
    "## Anchor Tag Data"
   ]
  },
  {
   "cell_type": "code",
   "execution_count": 14,
   "metadata": {},
   "outputs": [
    {
     "data": {
      "text/plain": [
       "<a aria-label=\"View Room Details West Wing King\" class=\"Card__title\" href=\"/en/hotel/west-wing-king.html\" id=\"roomoverviewcardcoll__card-west-wing-king__title\">West Wing King</a>"
      ]
     },
     "execution_count": 14,
     "metadata": {},
     "output_type": "execute_result"
    }
   ],
   "source": [
    "first_result = results_a[0]\n",
    "first_result"
   ]
  },
  {
   "cell_type": "code",
   "execution_count": 15,
   "metadata": {},
   "outputs": [
    {
     "data": {
      "text/plain": [
       "<a aria-label=\"View Room Details West Wing King\" class=\"Card__title\" href=\"/en/hotel/west-wing-king.html\" id=\"roomoverviewcardcoll__card-west-wing-king__title\">West Wing King</a>"
      ]
     },
     "execution_count": 15,
     "metadata": {},
     "output_type": "execute_result"
    }
   ],
   "source": [
    "first_result.find('a')\n",
    "first_result"
   ]
  },
  {
   "cell_type": "code",
   "execution_count": 16,
   "metadata": {},
   "outputs": [
    {
     "data": {
      "text/plain": [
       "'West Wing King'"
      ]
     },
     "execution_count": 16,
     "metadata": {},
     "output_type": "execute_result"
    }
   ],
   "source": [
    "first_result.contents[-1]"
   ]
  },
  {
   "cell_type": "code",
   "execution_count": 17,
   "metadata": {},
   "outputs": [],
   "source": [
    "records = []\n",
    "for result in results_a:\n",
    "    RoomType = result.contents[-1]\n",
    "    records.append(RoomType)"
   ]
  },
  {
   "cell_type": "code",
   "execution_count": 18,
   "metadata": {},
   "outputs": [
    {
     "data": {
      "text/plain": [
       "27"
      ]
     },
     "execution_count": 18,
     "metadata": {},
     "output_type": "execute_result"
    }
   ],
   "source": [
    "len(records)"
   ]
  },
  {
   "cell_type": "code",
   "execution_count": 19,
   "metadata": {},
   "outputs": [
    {
     "data": {
      "text/plain": [
       "['West Wing King', 'Grand King', 'Grand Two Queen ']"
      ]
     },
     "execution_count": 19,
     "metadata": {},
     "output_type": "execute_result"
    }
   ],
   "source": [
    "records[0:3]"
   ]
  },
  {
   "cell_type": "code",
   "execution_count": 20,
   "metadata": {},
   "outputs": [],
   "source": [
    "import pandas as pd\n",
    "df1 = pd.DataFrame(records, columns=['RoomType'])"
   ]
  },
  {
   "cell_type": "code",
   "execution_count": 21,
   "metadata": {},
   "outputs": [
    {
     "data": {
      "text/html": [
       "<div>\n",
       "<style scoped>\n",
       "    .dataframe tbody tr th:only-of-type {\n",
       "        vertical-align: middle;\n",
       "    }\n",
       "\n",
       "    .dataframe tbody tr th {\n",
       "        vertical-align: top;\n",
       "    }\n",
       "\n",
       "    .dataframe thead th {\n",
       "        text-align: right;\n",
       "    }\n",
       "</style>\n",
       "<table border=\"1\" class=\"dataframe\">\n",
       "  <thead>\n",
       "    <tr style=\"text-align: right;\">\n",
       "      <th></th>\n",
       "      <th>RoomType</th>\n",
       "    </tr>\n",
       "  </thead>\n",
       "  <tbody>\n",
       "    <tr>\n",
       "      <th>0</th>\n",
       "      <td>West Wing King</td>\n",
       "    </tr>\n",
       "    <tr>\n",
       "      <th>1</th>\n",
       "      <td>Grand King</td>\n",
       "    </tr>\n",
       "    <tr>\n",
       "      <th>2</th>\n",
       "      <td>Grand Two Queen</td>\n",
       "    </tr>\n",
       "    <tr>\n",
       "      <th>3</th>\n",
       "      <td>Grand King Strip View</td>\n",
       "    </tr>\n",
       "    <tr>\n",
       "      <th>4</th>\n",
       "      <td>Grand Two Queen Strip View</td>\n",
       "    </tr>\n",
       "    <tr>\n",
       "      <th>5</th>\n",
       "      <td>Stay Well Grand King</td>\n",
       "    </tr>\n",
       "    <tr>\n",
       "      <th>6</th>\n",
       "      <td>Stay Well Grand Two Queen</td>\n",
       "    </tr>\n",
       "    <tr>\n",
       "      <th>7</th>\n",
       "      <td>Stay Well Executive King Suite</td>\n",
       "    </tr>\n",
       "    <tr>\n",
       "      <th>8</th>\n",
       "      <td>Stay Well Executive Two Queen Suite</td>\n",
       "    </tr>\n",
       "    <tr>\n",
       "      <th>9</th>\n",
       "      <td>Stay Well Tower Spa Suite</td>\n",
       "    </tr>\n",
       "  </tbody>\n",
       "</table>\n",
       "</div>"
      ],
      "text/plain": [
       "                              RoomType\n",
       "0                       West Wing King\n",
       "1                           Grand King\n",
       "2                     Grand Two Queen \n",
       "3                Grand King Strip View\n",
       "4           Grand Two Queen Strip View\n",
       "5                 Stay Well Grand King\n",
       "6            Stay Well Grand Two Queen\n",
       "7       Stay Well Executive King Suite\n",
       "8  Stay Well Executive Two Queen Suite\n",
       "9            Stay Well Tower Spa Suite"
      ]
     },
     "execution_count": 21,
     "metadata": {},
     "output_type": "execute_result"
    }
   ],
   "source": [
    "df1.head(10)"
   ]
  },
  {
   "cell_type": "code",
   "execution_count": 22,
   "metadata": {},
   "outputs": [
    {
     "data": {
      "text/html": [
       "<div>\n",
       "<style scoped>\n",
       "    .dataframe tbody tr th:only-of-type {\n",
       "        vertical-align: middle;\n",
       "    }\n",
       "\n",
       "    .dataframe tbody tr th {\n",
       "        vertical-align: top;\n",
       "    }\n",
       "\n",
       "    .dataframe thead th {\n",
       "        text-align: right;\n",
       "    }\n",
       "</style>\n",
       "<table border=\"1\" class=\"dataframe\">\n",
       "  <thead>\n",
       "    <tr style=\"text-align: right;\">\n",
       "      <th></th>\n",
       "      <th>RoomType</th>\n",
       "    </tr>\n",
       "  </thead>\n",
       "  <tbody>\n",
       "    <tr>\n",
       "      <th>17</th>\n",
       "      <td>Penthouse City View Suite</td>\n",
       "    </tr>\n",
       "    <tr>\n",
       "      <th>18</th>\n",
       "      <td>Skyline Terrace Suite</td>\n",
       "    </tr>\n",
       "    <tr>\n",
       "      <th>19</th>\n",
       "      <td>2 Bedroom Marquee Suite</td>\n",
       "    </tr>\n",
       "    <tr>\n",
       "      <th>20</th>\n",
       "      <td>SKYLOFTS One Bedroom Loft</td>\n",
       "    </tr>\n",
       "    <tr>\n",
       "      <th>21</th>\n",
       "      <td>SKYLOFTS Two Bedroom Loft</td>\n",
       "    </tr>\n",
       "    <tr>\n",
       "      <th>22</th>\n",
       "      <td>SKYLOFTS Three Bedroom Loft</td>\n",
       "    </tr>\n",
       "    <tr>\n",
       "      <th>23</th>\n",
       "      <td>Stay Longer, Save More</td>\n",
       "    </tr>\n",
       "    <tr>\n",
       "      <th>24</th>\n",
       "      <td>Daily F&amp;B Credit</td>\n",
       "    </tr>\n",
       "    <tr>\n",
       "      <th>25</th>\n",
       "      <td>AAA Member Discount</td>\n",
       "    </tr>\n",
       "    <tr>\n",
       "      <th>26</th>\n",
       "      <td>M life Flexible Rate</td>\n",
       "    </tr>\n",
       "  </tbody>\n",
       "</table>\n",
       "</div>"
      ],
      "text/plain": [
       "                       RoomType\n",
       "17    Penthouse City View Suite\n",
       "18        Skyline Terrace Suite\n",
       "19      2 Bedroom Marquee Suite\n",
       "20    SKYLOFTS One Bedroom Loft\n",
       "21    SKYLOFTS Two Bedroom Loft\n",
       "22  SKYLOFTS Three Bedroom Loft\n",
       "23       Stay Longer, Save More\n",
       "24             Daily F&B Credit\n",
       "25          AAA Member Discount\n",
       "26         M life Flexible Rate"
      ]
     },
     "execution_count": 22,
     "metadata": {},
     "output_type": "execute_result"
    }
   ],
   "source": [
    "df1.tail(10)"
   ]
  },
  {
   "cell_type": "markdown",
   "metadata": {},
   "source": [
    "## Div- Tag Data "
   ]
  },
  {
   "cell_type": "code",
   "execution_count": 23,
   "metadata": {},
   "outputs": [
    {
     "data": {
      "text/plain": [
       "<div class=\"Card__key-values\"><div class=\"Card__key-value\">350 sq. ft</div><div class=\"Card__key-value\">1 King Bed</div><div class=\"Card__key-value\">Max Guest 2</div></div>"
      ]
     },
     "execution_count": 23,
     "metadata": {},
     "output_type": "execute_result"
    }
   ],
   "source": [
    "div_first_result = results_div[0]\n",
    "div_first_result"
   ]
  },
  {
   "cell_type": "code",
   "execution_count": 24,
   "metadata": {},
   "outputs": [
    {
     "data": {
      "text/plain": [
       "<div class=\"Card__key-value\">350 sq. ft</div>"
      ]
     },
     "execution_count": 24,
     "metadata": {},
     "output_type": "execute_result"
    }
   ],
   "source": [
    "## Extracting SQUARE FEET\n",
    "\n",
    "div_first_result.find('div')"
   ]
  },
  {
   "cell_type": "code",
   "execution_count": 25,
   "metadata": {},
   "outputs": [
    {
     "data": {
      "text/plain": [
       "'350 sq. ft'"
      ]
     },
     "execution_count": 25,
     "metadata": {},
     "output_type": "execute_result"
    }
   ],
   "source": [
    "div_first_result.find('div').text"
   ]
  },
  {
   "cell_type": "markdown",
   "metadata": {},
   "source": [
    "## Building the dataset"
   ]
  },
  {
   "cell_type": "code",
   "execution_count": 26,
   "metadata": {},
   "outputs": [],
   "source": [
    "records = []\n",
    "for result in results_div:\n",
    "    SquareFeet = result.find('div').text\n",
    "    BedType = result.contents[1]\n",
    "    Guests = result.contents[2]\n",
    "    records.append((SquareFeet, BedType, Guests))"
   ]
  },
  {
   "cell_type": "code",
   "execution_count": 27,
   "metadata": {},
   "outputs": [
    {
     "data": {
      "text/plain": [
       "23"
      ]
     },
     "execution_count": 27,
     "metadata": {},
     "output_type": "execute_result"
    }
   ],
   "source": [
    "len(records)"
   ]
  },
  {
   "cell_type": "code",
   "execution_count": 28,
   "metadata": {},
   "outputs": [
    {
     "data": {
      "text/plain": [
       "[('350 sq. ft',\n",
       "  <div class=\"Card__key-value\">1 King Bed</div>,\n",
       "  <div class=\"Card__key-value\">Max Guest 2</div>),\n",
       " ('446 sq. ft',\n",
       "  <div class=\"Card__key-value\">1 King Bed</div>,\n",
       "  <div class=\"Card__key-value\">Max Guest 3</div>),\n",
       " ('446 sq. ft',\n",
       "  <div class=\"Card__key-value\">2 Queen Beds</div>,\n",
       "  <div class=\"Card__key-value\">Max Guest 4</div>)]"
      ]
     },
     "execution_count": 28,
     "metadata": {},
     "output_type": "execute_result"
    }
   ],
   "source": [
    "records[0:3]"
   ]
  },
  {
   "cell_type": "code",
   "execution_count": 29,
   "metadata": {},
   "outputs": [],
   "source": [
    "df2 = pd.DataFrame(records, columns=['SquareFeet', 'BedType', 'Guests'])"
   ]
  },
  {
   "cell_type": "code",
   "execution_count": 30,
   "metadata": {},
   "outputs": [
    {
     "data": {
      "text/html": [
       "<div>\n",
       "<style scoped>\n",
       "    .dataframe tbody tr th:only-of-type {\n",
       "        vertical-align: middle;\n",
       "    }\n",
       "\n",
       "    .dataframe tbody tr th {\n",
       "        vertical-align: top;\n",
       "    }\n",
       "\n",
       "    .dataframe thead th {\n",
       "        text-align: right;\n",
       "    }\n",
       "</style>\n",
       "<table border=\"1\" class=\"dataframe\">\n",
       "  <thead>\n",
       "    <tr style=\"text-align: right;\">\n",
       "      <th></th>\n",
       "      <th>SquareFeet</th>\n",
       "      <th>BedType</th>\n",
       "      <th>Guests</th>\n",
       "    </tr>\n",
       "  </thead>\n",
       "  <tbody>\n",
       "    <tr>\n",
       "      <th>0</th>\n",
       "      <td>350 sq. ft</td>\n",
       "      <td>[1 King Bed]</td>\n",
       "      <td>[Max Guest 2]</td>\n",
       "    </tr>\n",
       "    <tr>\n",
       "      <th>1</th>\n",
       "      <td>446 sq. ft</td>\n",
       "      <td>[1 King Bed]</td>\n",
       "      <td>[Max Guest 3]</td>\n",
       "    </tr>\n",
       "    <tr>\n",
       "      <th>2</th>\n",
       "      <td>446 sq. ft</td>\n",
       "      <td>[2 Queen Beds]</td>\n",
       "      <td>[Max Guest 4]</td>\n",
       "    </tr>\n",
       "    <tr>\n",
       "      <th>3</th>\n",
       "      <td>446 sq. ft</td>\n",
       "      <td>[1 King Bed]</td>\n",
       "      <td>[Max Guest 3]</td>\n",
       "    </tr>\n",
       "    <tr>\n",
       "      <th>4</th>\n",
       "      <td>446 sq. ft</td>\n",
       "      <td>[2 Queen Beds]</td>\n",
       "      <td>[Max Guest 4]</td>\n",
       "    </tr>\n",
       "  </tbody>\n",
       "</table>\n",
       "</div>"
      ],
      "text/plain": [
       "   SquareFeet         BedType         Guests\n",
       "0  350 sq. ft    [1 King Bed]  [Max Guest 2]\n",
       "1  446 sq. ft    [1 King Bed]  [Max Guest 3]\n",
       "2  446 sq. ft  [2 Queen Beds]  [Max Guest 4]\n",
       "3  446 sq. ft    [1 King Bed]  [Max Guest 3]\n",
       "4  446 sq. ft  [2 Queen Beds]  [Max Guest 4]"
      ]
     },
     "execution_count": 30,
     "metadata": {},
     "output_type": "execute_result"
    }
   ],
   "source": [
    "df2.head()"
   ]
  },
  {
   "cell_type": "code",
   "execution_count": 31,
   "metadata": {},
   "outputs": [
    {
     "data": {
      "text/html": [
       "<div>\n",
       "<style scoped>\n",
       "    .dataframe tbody tr th:only-of-type {\n",
       "        vertical-align: middle;\n",
       "    }\n",
       "\n",
       "    .dataframe tbody tr th {\n",
       "        vertical-align: top;\n",
       "    }\n",
       "\n",
       "    .dataframe thead th {\n",
       "        text-align: right;\n",
       "    }\n",
       "</style>\n",
       "<table border=\"1\" class=\"dataframe\">\n",
       "  <thead>\n",
       "    <tr style=\"text-align: right;\">\n",
       "      <th></th>\n",
       "      <th>SquareFeet</th>\n",
       "      <th>BedType</th>\n",
       "      <th>Guests</th>\n",
       "    </tr>\n",
       "  </thead>\n",
       "  <tbody>\n",
       "    <tr>\n",
       "      <th>18</th>\n",
       "      <td>1300 sq. ft</td>\n",
       "      <td>[1 King Bed]</td>\n",
       "      <td>[Max Guest 2]</td>\n",
       "    </tr>\n",
       "    <tr>\n",
       "      <th>19</th>\n",
       "      <td>1500 sq. ft</td>\n",
       "      <td>[2 King Beds]</td>\n",
       "      <td>[Max Guest 4]</td>\n",
       "    </tr>\n",
       "    <tr>\n",
       "      <th>20</th>\n",
       "      <td>1400 sq. ft</td>\n",
       "      <td>[1 King Bed]</td>\n",
       "      <td>[Max Guest 3]</td>\n",
       "    </tr>\n",
       "    <tr>\n",
       "      <th>21</th>\n",
       "      <td>3000 sq. ft</td>\n",
       "      <td>[1 King Bed and 2 Queen Beds]</td>\n",
       "      <td>[Max Guest 7]</td>\n",
       "    </tr>\n",
       "    <tr>\n",
       "      <th>22</th>\n",
       "      <td>6000 sq. ft</td>\n",
       "      <td>[2 King Beds and 2 Queen Beds]</td>\n",
       "      <td>[Max Guest 9]</td>\n",
       "    </tr>\n",
       "  </tbody>\n",
       "</table>\n",
       "</div>"
      ],
      "text/plain": [
       "     SquareFeet                         BedType         Guests\n",
       "18  1300 sq. ft                    [1 King Bed]  [Max Guest 2]\n",
       "19  1500 sq. ft                   [2 King Beds]  [Max Guest 4]\n",
       "20  1400 sq. ft                    [1 King Bed]  [Max Guest 3]\n",
       "21  3000 sq. ft   [1 King Bed and 2 Queen Beds]  [Max Guest 7]\n",
       "22  6000 sq. ft  [2 King Beds and 2 Queen Beds]  [Max Guest 9]"
      ]
     },
     "execution_count": 31,
     "metadata": {},
     "output_type": "execute_result"
    }
   ],
   "source": [
    "df2.tail()"
   ]
  },
  {
   "cell_type": "markdown",
   "metadata": {},
   "source": [
    "## Room Description "
   ]
  },
  {
   "cell_type": "code",
   "execution_count": 32,
   "metadata": {},
   "outputs": [
    {
     "data": {
      "text/plain": [
       "<div class=\"Card__description\" id=\"roomoverviewcardcoll__card-west-wing-king__description\">The West Wing King is just steps away from Hakkasan Nightclub and Las Vegas Boulevard.\n",
       "</div>"
      ]
     },
     "execution_count": 32,
     "metadata": {},
     "output_type": "execute_result"
    }
   ],
   "source": [
    "Room_first_result=results_RoomDescription[0]\n",
    "Room_first_result"
   ]
  },
  {
   "cell_type": "code",
   "execution_count": 33,
   "metadata": {},
   "outputs": [
    {
     "data": {
      "text/plain": [
       "[<div class=\"Card__description\" id=\"roomoverviewcardcoll__card-west-wing-king__description\">The West Wing King is just steps away from Hakkasan Nightclub and Las Vegas Boulevard.\n",
       " </div>,\n",
       " <div class=\"Card__description\" id=\"roomoverviewcardcoll__card-grand-king__description\">The stylishly chic Grand King has all the amenities you need to recharge for the next phase of the party.\n",
       " </div>,\n",
       " <div class=\"Card__description\" id=\"roomoverviewcardcoll__card-grand-two-queen__description\">Vegas never stops. But when you need to pause, this room is a destination all its own.\n",
       " </div>]"
      ]
     },
     "execution_count": 33,
     "metadata": {},
     "output_type": "execute_result"
    }
   ],
   "source": [
    "results_RoomDescription[0:3]"
   ]
  },
  {
   "cell_type": "code",
   "execution_count": 34,
   "metadata": {},
   "outputs": [],
   "source": [
    "records = []\n",
    "for result in results_RoomDescription:\n",
    "    RoomDescription = result.contents[-1]\n",
    "    records.append(RoomDescription)"
   ]
  },
  {
   "cell_type": "code",
   "execution_count": 35,
   "metadata": {},
   "outputs": [
    {
     "data": {
      "text/plain": [
       "27"
      ]
     },
     "execution_count": 35,
     "metadata": {},
     "output_type": "execute_result"
    }
   ],
   "source": [
    "len(records)"
   ]
  },
  {
   "cell_type": "code",
   "execution_count": 36,
   "metadata": {},
   "outputs": [
    {
     "data": {
      "text/plain": [
       "['The West Wing King is just steps away from Hakkasan Nightclub and Las Vegas Boulevard.\\n',\n",
       " 'The stylishly chic Grand King has all the amenities you need to recharge for the next phase of the party.\\n',\n",
       " 'Vegas never stops. But when you need to pause, this room is a destination all its own.\\n']"
      ]
     },
     "execution_count": 36,
     "metadata": {},
     "output_type": "execute_result"
    }
   ],
   "source": [
    "records[0:3]"
   ]
  },
  {
   "cell_type": "code",
   "execution_count": 37,
   "metadata": {},
   "outputs": [],
   "source": [
    "import pandas as pd\n",
    "df3 = pd.DataFrame(records, columns=['RoomDescription'])"
   ]
  },
  {
   "cell_type": "code",
   "execution_count": 38,
   "metadata": {},
   "outputs": [
    {
     "data": {
      "text/html": [
       "<div>\n",
       "<style scoped>\n",
       "    .dataframe tbody tr th:only-of-type {\n",
       "        vertical-align: middle;\n",
       "    }\n",
       "\n",
       "    .dataframe tbody tr th {\n",
       "        vertical-align: top;\n",
       "    }\n",
       "\n",
       "    .dataframe thead th {\n",
       "        text-align: right;\n",
       "    }\n",
       "</style>\n",
       "<table border=\"1\" class=\"dataframe\">\n",
       "  <thead>\n",
       "    <tr style=\"text-align: right;\">\n",
       "      <th></th>\n",
       "      <th>RoomDescription</th>\n",
       "    </tr>\n",
       "  </thead>\n",
       "  <tbody>\n",
       "    <tr>\n",
       "      <th>0</th>\n",
       "      <td>The West Wing King is just steps away from Hak...</td>\n",
       "    </tr>\n",
       "    <tr>\n",
       "      <th>1</th>\n",
       "      <td>The stylishly chic Grand King has all the amen...</td>\n",
       "    </tr>\n",
       "    <tr>\n",
       "      <th>2</th>\n",
       "      <td>Vegas never stops. But when you need to pause,...</td>\n",
       "    </tr>\n",
       "    <tr>\n",
       "      <th>3</th>\n",
       "      <td>The stylishly chic Grand King has all the amen...</td>\n",
       "    </tr>\n",
       "    <tr>\n",
       "      <th>4</th>\n",
       "      <td>Vegas never stops. But when you need to pause,...</td>\n",
       "    </tr>\n",
       "  </tbody>\n",
       "</table>\n",
       "</div>"
      ],
      "text/plain": [
       "                                     RoomDescription\n",
       "0  The West Wing King is just steps away from Hak...\n",
       "1  The stylishly chic Grand King has all the amen...\n",
       "2  Vegas never stops. But when you need to pause,...\n",
       "3  The stylishly chic Grand King has all the amen...\n",
       "4  Vegas never stops. But when you need to pause,..."
      ]
     },
     "execution_count": 38,
     "metadata": {},
     "output_type": "execute_result"
    }
   ],
   "source": [
    "df3.head()"
   ]
  },
  {
   "cell_type": "code",
   "execution_count": 39,
   "metadata": {},
   "outputs": [
    {
     "data": {
      "text/html": [
       "<div>\n",
       "<style scoped>\n",
       "    .dataframe tbody tr th:only-of-type {\n",
       "        vertical-align: middle;\n",
       "    }\n",
       "\n",
       "    .dataframe tbody tr th {\n",
       "        vertical-align: top;\n",
       "    }\n",
       "\n",
       "    .dataframe thead th {\n",
       "        text-align: right;\n",
       "    }\n",
       "</style>\n",
       "<table border=\"1\" class=\"dataframe\">\n",
       "  <thead>\n",
       "    <tr style=\"text-align: right;\">\n",
       "      <th></th>\n",
       "      <th>RoomDescription</th>\n",
       "    </tr>\n",
       "  </thead>\n",
       "  <tbody>\n",
       "    <tr>\n",
       "      <th>22</th>\n",
       "      <td>A three-bedroom, three and a half bath loft wi...</td>\n",
       "    </tr>\n",
       "    <tr>\n",
       "      <th>23</th>\n",
       "      <td>Save up to 25% off a 4-night stay at MGM Grand.</td>\n",
       "    </tr>\n",
       "    <tr>\n",
       "      <th>24</th>\n",
       "      <td>Treat yourself with $50 in food and beverage c...</td>\n",
       "    </tr>\n",
       "    <tr>\n",
       "      <th>25</th>\n",
       "      <td>Save up to 10% off.</td>\n",
       "    </tr>\n",
       "    <tr>\n",
       "      <th>26</th>\n",
       "      <td>Up to an additional 20% off, exclusive to M li...</td>\n",
       "    </tr>\n",
       "  </tbody>\n",
       "</table>\n",
       "</div>"
      ],
      "text/plain": [
       "                                      RoomDescription\n",
       "22  A three-bedroom, three and a half bath loft wi...\n",
       "23    Save up to 25% off a 4-night stay at MGM Grand.\n",
       "24  Treat yourself with $50 in food and beverage c...\n",
       "25                                Save up to 10% off.\n",
       "26  Up to an additional 20% off, exclusive to M li..."
      ]
     },
     "execution_count": 39,
     "metadata": {},
     "output_type": "execute_result"
    }
   ],
   "source": [
    "df3.tail()"
   ]
  },
  {
   "cell_type": "code",
   "execution_count": 40,
   "metadata": {},
   "outputs": [],
   "source": [
    "final_result = pd.concat([df1, df2,df3], axis=1)"
   ]
  },
  {
   "cell_type": "code",
   "execution_count": 41,
   "metadata": {},
   "outputs": [
    {
     "data": {
      "text/plain": [
       "(27, 5)"
      ]
     },
     "execution_count": 41,
     "metadata": {},
     "output_type": "execute_result"
    }
   ],
   "source": [
    "final_result.shape"
   ]
  },
  {
   "cell_type": "code",
   "execution_count": 42,
   "metadata": {},
   "outputs": [
    {
     "data": {
      "text/html": [
       "<div>\n",
       "<style scoped>\n",
       "    .dataframe tbody tr th:only-of-type {\n",
       "        vertical-align: middle;\n",
       "    }\n",
       "\n",
       "    .dataframe tbody tr th {\n",
       "        vertical-align: top;\n",
       "    }\n",
       "\n",
       "    .dataframe thead th {\n",
       "        text-align: right;\n",
       "    }\n",
       "</style>\n",
       "<table border=\"1\" class=\"dataframe\">\n",
       "  <thead>\n",
       "    <tr style=\"text-align: right;\">\n",
       "      <th></th>\n",
       "      <th>RoomType</th>\n",
       "      <th>SquareFeet</th>\n",
       "      <th>BedType</th>\n",
       "      <th>Guests</th>\n",
       "      <th>RoomDescription</th>\n",
       "    </tr>\n",
       "  </thead>\n",
       "  <tbody>\n",
       "    <tr>\n",
       "      <th>0</th>\n",
       "      <td>West Wing King</td>\n",
       "      <td>350 sq. ft</td>\n",
       "      <td>[1 King Bed]</td>\n",
       "      <td>[Max Guest 2]</td>\n",
       "      <td>The West Wing King is just steps away from Hak...</td>\n",
       "    </tr>\n",
       "    <tr>\n",
       "      <th>1</th>\n",
       "      <td>Grand King</td>\n",
       "      <td>446 sq. ft</td>\n",
       "      <td>[1 King Bed]</td>\n",
       "      <td>[Max Guest 3]</td>\n",
       "      <td>The stylishly chic Grand King has all the amen...</td>\n",
       "    </tr>\n",
       "    <tr>\n",
       "      <th>2</th>\n",
       "      <td>Grand Two Queen</td>\n",
       "      <td>446 sq. ft</td>\n",
       "      <td>[2 Queen Beds]</td>\n",
       "      <td>[Max Guest 4]</td>\n",
       "      <td>Vegas never stops. But when you need to pause,...</td>\n",
       "    </tr>\n",
       "    <tr>\n",
       "      <th>3</th>\n",
       "      <td>Grand King Strip View</td>\n",
       "      <td>446 sq. ft</td>\n",
       "      <td>[1 King Bed]</td>\n",
       "      <td>[Max Guest 3]</td>\n",
       "      <td>The stylishly chic Grand King has all the amen...</td>\n",
       "    </tr>\n",
       "    <tr>\n",
       "      <th>4</th>\n",
       "      <td>Grand Two Queen Strip View</td>\n",
       "      <td>446 sq. ft</td>\n",
       "      <td>[2 Queen Beds]</td>\n",
       "      <td>[Max Guest 4]</td>\n",
       "      <td>Vegas never stops. But when you need to pause,...</td>\n",
       "    </tr>\n",
       "  </tbody>\n",
       "</table>\n",
       "</div>"
      ],
      "text/plain": [
       "                     RoomType  SquareFeet         BedType         Guests  \\\n",
       "0              West Wing King  350 sq. ft    [1 King Bed]  [Max Guest 2]   \n",
       "1                  Grand King  446 sq. ft    [1 King Bed]  [Max Guest 3]   \n",
       "2            Grand Two Queen   446 sq. ft  [2 Queen Beds]  [Max Guest 4]   \n",
       "3       Grand King Strip View  446 sq. ft    [1 King Bed]  [Max Guest 3]   \n",
       "4  Grand Two Queen Strip View  446 sq. ft  [2 Queen Beds]  [Max Guest 4]   \n",
       "\n",
       "                                     RoomDescription  \n",
       "0  The West Wing King is just steps away from Hak...  \n",
       "1  The stylishly chic Grand King has all the amen...  \n",
       "2  Vegas never stops. But when you need to pause,...  \n",
       "3  The stylishly chic Grand King has all the amen...  \n",
       "4  Vegas never stops. But when you need to pause,...  "
      ]
     },
     "execution_count": 42,
     "metadata": {},
     "output_type": "execute_result"
    }
   ],
   "source": [
    "final_result.head()"
   ]
  },
  {
   "cell_type": "code",
   "execution_count": 43,
   "metadata": {},
   "outputs": [
    {
     "data": {
      "text/html": [
       "<div>\n",
       "<style scoped>\n",
       "    .dataframe tbody tr th:only-of-type {\n",
       "        vertical-align: middle;\n",
       "    }\n",
       "\n",
       "    .dataframe tbody tr th {\n",
       "        vertical-align: top;\n",
       "    }\n",
       "\n",
       "    .dataframe thead th {\n",
       "        text-align: right;\n",
       "    }\n",
       "</style>\n",
       "<table border=\"1\" class=\"dataframe\">\n",
       "  <thead>\n",
       "    <tr style=\"text-align: right;\">\n",
       "      <th></th>\n",
       "      <th>RoomType</th>\n",
       "      <th>SquareFeet</th>\n",
       "      <th>BedType</th>\n",
       "      <th>Guests</th>\n",
       "      <th>RoomDescription</th>\n",
       "    </tr>\n",
       "  </thead>\n",
       "  <tbody>\n",
       "    <tr>\n",
       "      <th>22</th>\n",
       "      <td>SKYLOFTS Three Bedroom Loft</td>\n",
       "      <td>6000 sq. ft</td>\n",
       "      <td>[2 King Beds and 2 Queen Beds]</td>\n",
       "      <td>[Max Guest 9]</td>\n",
       "      <td>A three-bedroom, three and a half bath loft wi...</td>\n",
       "    </tr>\n",
       "    <tr>\n",
       "      <th>23</th>\n",
       "      <td>Stay Longer, Save More</td>\n",
       "      <td>NaN</td>\n",
       "      <td>NaN</td>\n",
       "      <td>NaN</td>\n",
       "      <td>Save up to 25% off a 4-night stay at MGM Grand.</td>\n",
       "    </tr>\n",
       "    <tr>\n",
       "      <th>24</th>\n",
       "      <td>Daily F&amp;B Credit</td>\n",
       "      <td>NaN</td>\n",
       "      <td>NaN</td>\n",
       "      <td>NaN</td>\n",
       "      <td>Treat yourself with $50 in food and beverage c...</td>\n",
       "    </tr>\n",
       "    <tr>\n",
       "      <th>25</th>\n",
       "      <td>AAA Member Discount</td>\n",
       "      <td>NaN</td>\n",
       "      <td>NaN</td>\n",
       "      <td>NaN</td>\n",
       "      <td>Save up to 10% off.</td>\n",
       "    </tr>\n",
       "    <tr>\n",
       "      <th>26</th>\n",
       "      <td>M life Flexible Rate</td>\n",
       "      <td>NaN</td>\n",
       "      <td>NaN</td>\n",
       "      <td>NaN</td>\n",
       "      <td>Up to an additional 20% off, exclusive to M li...</td>\n",
       "    </tr>\n",
       "  </tbody>\n",
       "</table>\n",
       "</div>"
      ],
      "text/plain": [
       "                       RoomType   SquareFeet                         BedType  \\\n",
       "22  SKYLOFTS Three Bedroom Loft  6000 sq. ft  [2 King Beds and 2 Queen Beds]   \n",
       "23       Stay Longer, Save More          NaN                             NaN   \n",
       "24             Daily F&B Credit          NaN                             NaN   \n",
       "25          AAA Member Discount          NaN                             NaN   \n",
       "26         M life Flexible Rate          NaN                             NaN   \n",
       "\n",
       "           Guests                                    RoomDescription  \n",
       "22  [Max Guest 9]  A three-bedroom, three and a half bath loft wi...  \n",
       "23            NaN    Save up to 25% off a 4-night stay at MGM Grand.  \n",
       "24            NaN  Treat yourself with $50 in food and beverage c...  \n",
       "25            NaN                                Save up to 10% off.  \n",
       "26            NaN  Up to an additional 20% off, exclusive to M li...  "
      ]
     },
     "execution_count": 43,
     "metadata": {},
     "output_type": "execute_result"
    }
   ],
   "source": [
    "final_result.tail()"
   ]
  },
  {
   "cell_type": "code",
   "execution_count": 44,
   "metadata": {},
   "outputs": [],
   "source": [
    "filtered_data=final_result[~final_result['SquareFeet'].isnull()]"
   ]
  },
  {
   "cell_type": "code",
   "execution_count": 45,
   "metadata": {},
   "outputs": [
    {
     "data": {
      "text/html": [
       "<div>\n",
       "<style scoped>\n",
       "    .dataframe tbody tr th:only-of-type {\n",
       "        vertical-align: middle;\n",
       "    }\n",
       "\n",
       "    .dataframe tbody tr th {\n",
       "        vertical-align: top;\n",
       "    }\n",
       "\n",
       "    .dataframe thead th {\n",
       "        text-align: right;\n",
       "    }\n",
       "</style>\n",
       "<table border=\"1\" class=\"dataframe\">\n",
       "  <thead>\n",
       "    <tr style=\"text-align: right;\">\n",
       "      <th></th>\n",
       "      <th>RoomType</th>\n",
       "      <th>SquareFeet</th>\n",
       "      <th>BedType</th>\n",
       "      <th>Guests</th>\n",
       "      <th>RoomDescription</th>\n",
       "    </tr>\n",
       "  </thead>\n",
       "  <tbody>\n",
       "    <tr>\n",
       "      <th>0</th>\n",
       "      <td>West Wing King</td>\n",
       "      <td>350 sq. ft</td>\n",
       "      <td>[1 King Bed]</td>\n",
       "      <td>[Max Guest 2]</td>\n",
       "      <td>The West Wing King is just steps away from Hak...</td>\n",
       "    </tr>\n",
       "    <tr>\n",
       "      <th>1</th>\n",
       "      <td>Grand King</td>\n",
       "      <td>446 sq. ft</td>\n",
       "      <td>[1 King Bed]</td>\n",
       "      <td>[Max Guest 3]</td>\n",
       "      <td>The stylishly chic Grand King has all the amen...</td>\n",
       "    </tr>\n",
       "    <tr>\n",
       "      <th>2</th>\n",
       "      <td>Grand Two Queen</td>\n",
       "      <td>446 sq. ft</td>\n",
       "      <td>[2 Queen Beds]</td>\n",
       "      <td>[Max Guest 4]</td>\n",
       "      <td>Vegas never stops. But when you need to pause,...</td>\n",
       "    </tr>\n",
       "    <tr>\n",
       "      <th>3</th>\n",
       "      <td>Grand King Strip View</td>\n",
       "      <td>446 sq. ft</td>\n",
       "      <td>[1 King Bed]</td>\n",
       "      <td>[Max Guest 3]</td>\n",
       "      <td>The stylishly chic Grand King has all the amen...</td>\n",
       "    </tr>\n",
       "    <tr>\n",
       "      <th>4</th>\n",
       "      <td>Grand Two Queen Strip View</td>\n",
       "      <td>446 sq. ft</td>\n",
       "      <td>[2 Queen Beds]</td>\n",
       "      <td>[Max Guest 4]</td>\n",
       "      <td>Vegas never stops. But when you need to pause,...</td>\n",
       "    </tr>\n",
       "  </tbody>\n",
       "</table>\n",
       "</div>"
      ],
      "text/plain": [
       "                     RoomType  SquareFeet         BedType         Guests  \\\n",
       "0              West Wing King  350 sq. ft    [1 King Bed]  [Max Guest 2]   \n",
       "1                  Grand King  446 sq. ft    [1 King Bed]  [Max Guest 3]   \n",
       "2            Grand Two Queen   446 sq. ft  [2 Queen Beds]  [Max Guest 4]   \n",
       "3       Grand King Strip View  446 sq. ft    [1 King Bed]  [Max Guest 3]   \n",
       "4  Grand Two Queen Strip View  446 sq. ft  [2 Queen Beds]  [Max Guest 4]   \n",
       "\n",
       "                                     RoomDescription  \n",
       "0  The West Wing King is just steps away from Hak...  \n",
       "1  The stylishly chic Grand King has all the amen...  \n",
       "2  Vegas never stops. But when you need to pause,...  \n",
       "3  The stylishly chic Grand King has all the amen...  \n",
       "4  Vegas never stops. But when you need to pause,...  "
      ]
     },
     "execution_count": 45,
     "metadata": {},
     "output_type": "execute_result"
    }
   ],
   "source": [
    "filtered_data.head()"
   ]
  },
  {
   "cell_type": "code",
   "execution_count": 46,
   "metadata": {},
   "outputs": [
    {
     "data": {
      "text/html": [
       "<div>\n",
       "<style scoped>\n",
       "    .dataframe tbody tr th:only-of-type {\n",
       "        vertical-align: middle;\n",
       "    }\n",
       "\n",
       "    .dataframe tbody tr th {\n",
       "        vertical-align: top;\n",
       "    }\n",
       "\n",
       "    .dataframe thead th {\n",
       "        text-align: right;\n",
       "    }\n",
       "</style>\n",
       "<table border=\"1\" class=\"dataframe\">\n",
       "  <thead>\n",
       "    <tr style=\"text-align: right;\">\n",
       "      <th></th>\n",
       "      <th>RoomType</th>\n",
       "      <th>SquareFeet</th>\n",
       "      <th>BedType</th>\n",
       "      <th>Guests</th>\n",
       "      <th>RoomDescription</th>\n",
       "    </tr>\n",
       "  </thead>\n",
       "  <tbody>\n",
       "    <tr>\n",
       "      <th>18</th>\n",
       "      <td>Skyline Terrace Suite</td>\n",
       "      <td>1300 sq. ft</td>\n",
       "      <td>[1 King Bed]</td>\n",
       "      <td>[Max Guest 2]</td>\n",
       "      <td>With expansive views from your private terrace...</td>\n",
       "    </tr>\n",
       "    <tr>\n",
       "      <th>19</th>\n",
       "      <td>2 Bedroom Marquee Suite</td>\n",
       "      <td>1500 sq. ft</td>\n",
       "      <td>[2 King Beds]</td>\n",
       "      <td>[Max Guest 4]</td>\n",
       "      <td>With dramatic floor-to-ceiling windows, this t...</td>\n",
       "    </tr>\n",
       "    <tr>\n",
       "      <th>20</th>\n",
       "      <td>SKYLOFTS One Bedroom Loft</td>\n",
       "      <td>1400 sq. ft</td>\n",
       "      <td>[1 King Bed]</td>\n",
       "      <td>[Max Guest 3]</td>\n",
       "      <td>Experience unparalleled luxury and personalize...</td>\n",
       "    </tr>\n",
       "    <tr>\n",
       "      <th>21</th>\n",
       "      <td>SKYLOFTS Two Bedroom Loft</td>\n",
       "      <td>3000 sq. ft</td>\n",
       "      <td>[1 King Bed and 2 Queen Beds]</td>\n",
       "      <td>[Max Guest 7]</td>\n",
       "      <td>Two bedroom, two bathroom loft with a den, liv...</td>\n",
       "    </tr>\n",
       "    <tr>\n",
       "      <th>22</th>\n",
       "      <td>SKYLOFTS Three Bedroom Loft</td>\n",
       "      <td>6000 sq. ft</td>\n",
       "      <td>[2 King Beds and 2 Queen Beds]</td>\n",
       "      <td>[Max Guest 9]</td>\n",
       "      <td>A three-bedroom, three and a half bath loft wi...</td>\n",
       "    </tr>\n",
       "  </tbody>\n",
       "</table>\n",
       "</div>"
      ],
      "text/plain": [
       "                       RoomType   SquareFeet                         BedType  \\\n",
       "18        Skyline Terrace Suite  1300 sq. ft                    [1 King Bed]   \n",
       "19      2 Bedroom Marquee Suite  1500 sq. ft                   [2 King Beds]   \n",
       "20    SKYLOFTS One Bedroom Loft  1400 sq. ft                    [1 King Bed]   \n",
       "21    SKYLOFTS Two Bedroom Loft  3000 sq. ft   [1 King Bed and 2 Queen Beds]   \n",
       "22  SKYLOFTS Three Bedroom Loft  6000 sq. ft  [2 King Beds and 2 Queen Beds]   \n",
       "\n",
       "           Guests                                    RoomDescription  \n",
       "18  [Max Guest 2]  With expansive views from your private terrace...  \n",
       "19  [Max Guest 4]  With dramatic floor-to-ceiling windows, this t...  \n",
       "20  [Max Guest 3]  Experience unparalleled luxury and personalize...  \n",
       "21  [Max Guest 7]  Two bedroom, two bathroom loft with a den, liv...  \n",
       "22  [Max Guest 9]  A three-bedroom, three and a half bath loft wi...  "
      ]
     },
     "execution_count": 46,
     "metadata": {},
     "output_type": "execute_result"
    }
   ],
   "source": [
    "filtered_data.tail()"
   ]
  },
  {
   "cell_type": "code",
   "execution_count": 59,
   "metadata": {},
   "outputs": [
    {
     "name": "stdout",
     "output_type": "stream",
     "text": [
      "<class 'pandas.core.frame.DataFrame'>\n",
      "Int64Index: 23 entries, 0 to 22\n",
      "Data columns (total 5 columns):\n",
      "RoomType           23 non-null object\n",
      "SquareFeet         23 non-null int32\n",
      "BedType            23 non-null object\n",
      "Guests             23 non-null object\n",
      "RoomDescription    23 non-null object\n",
      "dtypes: int32(1), object(4)\n",
      "memory usage: 1012.0+ bytes\n"
     ]
    }
   ],
   "source": [
    "filtered_data.info()"
   ]
  },
  {
   "cell_type": "code",
   "execution_count": 60,
   "metadata": {},
   "outputs": [],
   "source": [
    "filtered_data.to_json('C:/Users/bkiranku/AppliedAI/Projects/Web Scraping-MGM Grand/Dynamic-HTML_Web Scraping-MGM Grand.json')"
   ]
  },
  {
   "cell_type": "code",
   "execution_count": 61,
   "metadata": {},
   "outputs": [],
   "source": [
    "filtered_data.to_csv('C:/Users/bkiranku/AppliedAI/Projects/Web Scraping-MGM Grand/Dynamic-HTML_Web Scraping-MGM Grand.csv')"
   ]
  },
  {
   "cell_type": "code",
   "execution_count": null,
   "metadata": {},
   "outputs": [],
   "source": []
  }
 ],
 "metadata": {
  "kernelspec": {
   "display_name": "Python 3",
   "language": "python",
   "name": "python3"
  },
  "language_info": {
   "codemirror_mode": {
    "name": "ipython",
    "version": 3
   },
   "file_extension": ".py",
   "mimetype": "text/x-python",
   "name": "python",
   "nbconvert_exporter": "python",
   "pygments_lexer": "ipython3",
   "version": "3.7.4"
  }
 },
 "nbformat": 4,
 "nbformat_minor": 2
}
